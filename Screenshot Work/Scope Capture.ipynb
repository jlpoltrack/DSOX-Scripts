{
 "cells": [
  {
   "cell_type": "code",
   "execution_count": 3,
   "metadata": {},
   "outputs": [
    {
     "name": "stdout",
     "output_type": "stream",
     "text": [
      "('USB0::0x0957::0x17B6::MY55110206::INSTR', 'ASRL1::INSTR', 'ASRL2::INSTR', 'ASRL3::INSTR', 'ASRL9::INSTR', 'ASRL19::INSTR', 'ASRL20::INSTR')\n"
     ]
    }
   ],
   "source": [
    "#https://github.com/twam/scpi-scripts\n",
    "import pyvisa\n",
    "\n",
    "rm = pyvisa.ResourceManager()\n",
    "print(rm.list_resources())\n",
    "\n",
    "for device in rm.list_resources():\n",
    "    \n",
    "    _device = rm.open_resource(device)\n",
    "    _IDN = _device.query('*IDN?')\n",
    "    \n",
    "    if 'SO-X' in _IDN:\n",
    "        scopeResource = device\n",
    "        break"
   ]
  },
  {
   "cell_type": "code",
   "execution_count": 4,
   "metadata": {},
   "outputs": [
    {
     "name": "stdout",
     "output_type": "stream",
     "text": [
      "AGILENT TECHNOLOGIES,MSO-X 4024A,MY55110206,07.56.2022120229\n"
     ]
    }
   ],
   "source": [
    "scope = rm.open_resource(scopeResource)\n",
    "scope.read_termination = '\\n'\n",
    "scope.write_termination = '\\n'\n",
    "scope.timeout = 5000\n",
    "print(scope.query('*IDN?'))"
   ]
  },
  {
   "cell_type": "code",
   "execution_count": 5,
   "metadata": {},
   "outputs": [
    {
     "data": {
      "text/plain": [
       "26030"
      ]
     },
     "execution_count": 5,
     "metadata": {},
     "output_type": "execute_result"
    }
   ],
   "source": [
    "from datetime import datetime\n",
    "\n",
    "fileDate = str(datetime.now()).replace(':','_').replace(' ',' ')                #Timestamp\n",
    "\n",
    "scope.write(':HARDcopy:INKSaver 0')                                             #Black Background\n",
    "data = scope.query_binary_values(':DISPlay:DATA? PNG, COLOR', datatype='B')     #Request Image Data, uses uint8t data type.  https://docs.python.org/2/library/struct.html#format-characters\n",
    "\n",
    "newfile=open(f'Capture_{fileDate}.png','wb')\n",
    "newfile.write(bytearray(data))"
   ]
  },
  {
   "cell_type": "code",
   "execution_count": null,
   "metadata": {},
   "outputs": [],
   "source": []
  }
 ],
 "metadata": {
  "kernelspec": {
   "display_name": "Python 3",
   "language": "python",
   "name": "python3"
  },
  "language_info": {
   "codemirror_mode": {
    "name": "ipython",
    "version": 3
   },
   "file_extension": ".py",
   "mimetype": "text/x-python",
   "name": "python",
   "nbconvert_exporter": "python",
   "pygments_lexer": "ipython3",
   "version": "3.11.1 (tags/v3.11.1:a7a450f, Dec  6 2022, 19:58:39) [MSC v.1934 64 bit (AMD64)]"
  },
  "orig_nbformat": 2,
  "vscode": {
   "interpreter": {
    "hash": "bb4938f9b3dc4a03e5431cf1dbd80ab81518b5c11eae5b0193b1f5519ecd5658"
   }
  }
 },
 "nbformat": 4,
 "nbformat_minor": 2
}
